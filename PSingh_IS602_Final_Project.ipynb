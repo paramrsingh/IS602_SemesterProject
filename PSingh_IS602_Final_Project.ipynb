{
 "cells": [
  {
   "cell_type": "markdown",
   "metadata": {},
   "source": [
    "<b>Problem Statement</b><br>\n",
    "If I were a real estate developer I would be interested in aggregating multiple sources of listing and mortgage data in a specific neighborhood, correlating to the larger market and using this to identify the most opportune time to sell assets and re-capitalize. In simpler terms, I want to know if we are approaching another market peak and the opportune time to sell."
   ]
  },
  {
   "cell_type": "markdown",
   "metadata": {},
   "source": [
    "<b>Data Sources</b> <br>\n",
    "- Zillow - Sales data by zip code per month<br>\n",
    "  Source:\n",
    "- Case Shiller - 10 City Index per quarter<br>\n",
    "  Source:\n",
    "- NYC Open Data - Department of Buuildings Permit Issuances<br>\n",
    "  Source:"
   ]
  },
  {
   "cell_type": "code",
   "execution_count": 44,
   "metadata": {
    "collapsed": false
   },
   "outputs": [],
   "source": [
    "%matplotlib inline\n",
    "import pandas as pd\n",
    "import numpy as np\n",
    "import matplotlib.pyplot as plt\n",
    "from scipy import stats"
   ]
  },
  {
   "cell_type": "markdown",
   "metadata": {},
   "source": [
    "I chose to load the csv data as Pandas dataframe to make selecting and slicing simpler. "
   ]
  },
  {
   "cell_type": "code",
   "execution_count": 26,
   "metadata": {
    "collapsed": false
   },
   "outputs": [
    {
     "name": "stdout",
     "output_type": "stream",
     "text": [
      "<class 'pandas.core.frame.DataFrame'>\n",
      "Int64Index: 115 entries, 0 to 114\n",
      "Data columns (total 2 columns):\n",
      "DATE     115 non-null object\n",
      "VALUE    115 non-null float64\n",
      "dtypes: float64(1), object(1)\n",
      "memory usage: 2.7+ KB\n",
      "None\n",
      "<class 'pandas.core.frame.DataFrame'>\n",
      "Int64Index: 13058 entries, 0 to 13057\n",
      "Columns: 242 entries, RegionID to 2015-10\n",
      "dtypes: float64(201), int64(37), object(4)\n",
      "memory usage: 24.2+ MB\n",
      "None\n"
     ]
    }
   ],
   "source": [
    "casedf = pd.read_csv('~/Downloads/SPCS10RSA.csv')\n",
    "zillowdf = pd.read_csv('~/Downloads/Zip_Zhvi_AllHomes.csv')\n",
    "print casedf.info()\n",
    "print zillowdf.info()"
   ]
  },
  {
   "cell_type": "markdown",
   "metadata": {},
   "source": [
    "The Case-Shiller data looks to be \"long\", with two columns representing the quarter and the aggregated city values. The Zillow data on the other hand has numerous columns which represent months horizontally, adding to this there are some missing values"
   ]
  },
  {
   "cell_type": "code",
   "execution_count": 28,
   "metadata": {
    "collapsed": false
   },
   "outputs": [
    {
     "name": "stdout",
     "output_type": "stream",
     "text": [
      "         DATE  VALUE\n",
      "0  1987-01-01  63.78\n",
      "1  1987-04-01  65.79\n",
      "2  1987-07-01  67.73\n",
      "3  1987-10-01  69.62\n",
      "4  1988-01-01  71.25\n",
      "   RegionID  RegionName      City State                               Metro  \\\n",
      "0     62080       11368  New York    NY                            New York   \n",
      "1     93144       79936   El Paso    TX                             El Paso   \n",
      "2     84630       60629   Chicago    IL                             Chicago   \n",
      "3     96193       90650   Norwalk    CA  Los Angeles-Long Beach-Anaheim, CA   \n",
      "4     62037       11226  New York    NY                            New York   \n",
      "\n",
      "    CountyName  SizeRank  1996-04  1996-05  1996-06   ...     2015-01  \\\n",
      "0       Queens         1      NaN      NaN      NaN   ...      353200   \n",
      "1      El Paso         2    70800    71000    71000   ...      111500   \n",
      "2         Cook         3    93100    93100    92900   ...      134300   \n",
      "3  Los Angeles         4   144500   144300   143900   ...      373300   \n",
      "4        Kings         5      NaN      NaN      NaN   ...      512900   \n",
      "\n",
      "   2015-02  2015-03  2015-04  2015-05  2015-06  2015-07  2015-08  2015-09  \\\n",
      "0   353900   352600   353000   355200   356600   355900   355200   358300   \n",
      "1   111400   111600   111900   112000   112100   112200   112200   111800   \n",
      "2   134400   134400   134600   135600   137500   139500   140600   140300   \n",
      "3   376200   380100   383300   385900   388200   390400   393000   395500   \n",
      "4   526600   537300   537500   536700   537800   541700   548100   558700   \n",
      "\n",
      "   2015-10  \n",
      "0   363600  \n",
      "1   111500  \n",
      "2   139700  \n",
      "3   397400  \n",
      "4   569300  \n",
      "\n",
      "[5 rows x 242 columns]\n"
     ]
    }
   ],
   "source": [
    "print casedf.head()\n",
    "print zillowdf.head()"
   ]
  },
  {
   "cell_type": "markdown",
   "metadata": {},
   "source": [
    "To begin with, I first changed the DATE column in the Case-Shiller dataframe to be datetime"
   ]
  },
  {
   "cell_type": "code",
   "execution_count": 29,
   "metadata": {
    "collapsed": false
   },
   "outputs": [
    {
     "name": "stdout",
     "output_type": "stream",
     "text": [
      "<class 'pandas.core.frame.DataFrame'>\n",
      "Int64Index: 115 entries, 0 to 114\n",
      "Data columns (total 2 columns):\n",
      "DATE     115 non-null datetime64[ns]\n",
      "VALUE    115 non-null float64\n",
      "dtypes: datetime64[ns](1), float64(1)\n",
      "memory usage: 2.7 KB\n",
      "None\n"
     ]
    }
   ],
   "source": [
    "casedf['DATE'] = pd.to_datetime(casedf['DATE'])"
   ]
  },
  {
   "cell_type": "markdown",
   "metadata": {},
   "source": [
    "Slice to get just the values that are needed for the analysis. In this case data from 2010 on."
   ]
  },
  {
   "cell_type": "code",
   "execution_count": 30,
   "metadata": {
    "collapsed": false
   },
   "outputs": [
    {
     "name": "stdout",
     "output_type": "stream",
     "text": [
      "          DATE   VALUE\n",
      "92  2010-01-01  159.68\n",
      "93  2010-04-01  160.14\n",
      "94  2010-07-01  158.82\n",
      "95  2010-10-01  156.82\n",
      "96  2011-01-01  155.42\n",
      "97  2011-04-01  153.99\n",
      "98  2011-07-01  153.14\n",
      "99  2011-10-01  151.03\n",
      "100 2012-01-01  149.92\n",
      "101 2012-04-01  152.15\n",
      "102 2012-07-01  155.13\n",
      "103 2012-10-01  158.20\n",
      "104 2013-01-01  162.82\n",
      "105 2013-04-01  169.60\n",
      "106 2013-07-01  174.91\n",
      "107 2013-10-01  179.95\n",
      "108 2014-01-01  184.07\n",
      "109 2014-04-01  185.44\n",
      "110 2014-07-01  184.83\n",
      "111 2014-10-01  187.54\n",
      "112 2015-01-01  192.26\n",
      "113 2015-04-01  193.88\n",
      "114 2015-07-01  193.70\n"
     ]
    }
   ],
   "source": [
    "casedf = casedf.ix[92:]\n",
    "print casedf"
   ]
  },
  {
   "cell_type": "markdown",
   "metadata": {},
   "source": [
    "Now, on to the Zillow data. As mentioned, the raw data is in \"wide\" format where the variables (columns) are in month increments and the observations (rows) are the neighborhoods by zip code. For linear regression the n, number of observations, for both the x and y values have to be same. To begin, I dropped the columns not needed (in this case the values were coincidentally not present up till 2010), selected the one \"row\" that matched to Long Island City (zip code 11101), and then transposed the data to match the \"long\" format of the Case-Shiller data and also for plotting."
   ]
  },
  {
   "cell_type": "code",
   "execution_count": 31,
   "metadata": {
    "collapsed": true
   },
   "outputs": [],
   "source": [
    "colcounter = range(0, 172)\n",
    "licdata = zillowdf.drop(zillowdf.columns[[colcounter]], axis=1)\n",
    "licdata = licdata[2998:2999].T"
   ]
  },
  {
   "cell_type": "markdown",
   "metadata": {},
   "source": [
    "The other complication with the Zillow data is that it was by month, and the Case-Shiller data is by quarter. When data gives you lemons, you make lemonade. The following code droppped the columns I did not need."
   ]
  },
  {
   "cell_type": "code",
   "execution_count": 32,
   "metadata": {
    "collapsed": false
   },
   "outputs": [
    {
     "name": "stdout",
     "output_type": "stream",
     "text": [
      "           2998\n",
      "2010-01  493800\n",
      "2010-04  541400\n",
      "2010-07  590000\n",
      "2010-10  620100\n",
      "2011-01  635800\n",
      "2011-04  625800\n",
      "2011-07  614000\n",
      "2011-10  593000\n",
      "2012-01  569900\n",
      "2012-04  568000\n",
      "2012-07  619100\n",
      "2012-10  630300\n",
      "2013-01  643800\n",
      "2013-04  651500\n",
      "2013-07  670600\n",
      "2013-10  734800\n",
      "2014-01  802500\n",
      "2014-04  787700\n",
      "2014-07  766100\n",
      "2014-10  793700\n",
      "2015-01  791700\n",
      "2015-04  751400\n",
      "2015-07  675600\n"
     ]
    }
   ],
   "source": [
    "excludelist = []\n",
    "years = ['2010', '2011', '2012', '2013', '2014', '2015']\n",
    "months = ['02', '03', '05', '06', '08', '09', '11', '12']\n",
    "for i in years:\n",
    "    for j in months:\n",
    "        excludelist.append(str(i) + \"-\" + str(j))\n",
    "# manually dropping the last two months in 2015 as they are not present in the data\n",
    "del excludelist[-2:]\n",
    "licdata = licdata.drop(excludelist, axis=0)\n",
    "licdata = licdata.ix[:-1]\n",
    "print licdata"
   ]
  },
  {
   "cell_type": "markdown",
   "metadata": {},
   "source": [
    "And yet another wrinkle is that the scale of the Case-Shiller data was format shortened by decimal (common with large amounts in Finance), where the Zillow Data was actual. I shifted the decimal and then \"squeezed\" both dataframes to ensure that they would be able to be plotted."
   ]
  },
  {
   "cell_type": "code",
   "execution_count": 33,
   "metadata": {
    "collapsed": false
   },
   "outputs": [
    {
     "name": "stdout",
     "output_type": "stream",
     "text": [
      "(23,)\n",
      "(23,)\n"
     ]
    }
   ],
   "source": [
    "Y = np.array(licdata[[2998]])\n",
    "Y = Y/1000\n",
    "Y = Y.squeeze()\n",
    "print Y.shape\n",
    "X = np.array(casedf[['VALUE']])\n",
    "X = X.squeeze()\n",
    "print X.shape"
   ]
  },
  {
   "cell_type": "markdown",
   "metadata": {},
   "source": [
    "Finally, the linear regression available through SciPy"
   ]
  },
  {
   "cell_type": "code",
   "execution_count": 48,
   "metadata": {
    "collapsed": false
   },
   "outputs": [
    {
     "name": "stdout",
     "output_type": "stream",
     "text": [
      "Slope:  4.77832659201\n",
      "R-value:  0.843670354844\n"
     ]
    }
   ],
   "source": [
    "slope, intercept, r_value, p_value, std_err = stats.linregress(X, Y)\n",
    "print \"Slope: \", slope\n",
    "print \"R-value: \", r_value"
   ]
  },
  {
   "cell_type": "markdown",
   "metadata": {},
   "source": [
    "The r_value is 0.8437, close to 1. This indicates that there is a strong linear relationship between x - case-shiller 10-city index data, and y - residential sales data for Long Island City, NY (zip 11101). As the prices increase in x, they also increase on y.<br>\n",
    "This isn't entirely surprising, as New York City is one of the cities where its real estate sales data is used to create the Case-Shiller index. What was unexpected was how strong this relationship was. A long-time argument with developers in New York City"
   ]
  },
  {
   "cell_type": "code",
   "execution_count": 45,
   "metadata": {
    "collapsed": false
   },
   "outputs": [
    {
     "data": {
      "image/png": "[encoded data removed]",
      "text/plain": [
       "<matplotlib.figure.Figure at 0x11250f310>"
      ]
     },
     "metadata": {},
     "output_type": "display_data"
    }
   ],
   "source": [
    "plt.scatter(X, Y)\n",
    "plt.plot(X, slope*X + intercept)\n",
    "plt.ylabel('Long Island City, NY - 11101')\n",
    "plt.xlabel('Case-Shiller 10-City')\n",
    "plt.title('Residential Real Estate Data 2010 - 2015')\n",
    "plt.show()"
   ]
  },
  {
   "cell_type": "markdown",
   "metadata": {},
   "source": [
    "<b>Analysis 1 - Strong correlation of Long Island City Residential Sales to the larger market</b><br>\n",
    "The plot of the data, along with the regression line demonstrating the r-value of 0.8437 and a strong correlation indicates that sales in this neighborhood generally follows the trend of the larger market place. This answers the first part of the problem statement.<br><br>\n",
    "Next, we take a look at the Case-Shiller index on a longer timescale (2000-2015) to determine if it is approaching another high."
   ]
  },
  {
   "cell_type": "code",
   "execution_count": 50,
   "metadata": {
    "collapsed": true
   },
   "outputs": [],
   "source": [
    "casedf = pd.read_csv('~/Downloads/SPCS10RSA.csv')\n",
    "casedf = casedf.ix[52:]\n",
    "casedf['DATE'] = pd.to_datetime(casedf['DATE'])\n",
    "X = np.array(casedf[['DATE']])\n",
    "Y = np.array(casedf[['VALUE']])\n",
    "X = X.squeeze()\n",
    "Y = Y.squeeze()"
   ]
  },
  {
   "cell_type": "code",
   "execution_count": 53,
   "metadata": {
    "collapsed": false
   },
   "outputs": [
    {
     "data": {
      "image/png": "[encoded data removed]",
      "text/plain": [
       "<matplotlib.figure.Figure at 0x1125f0290>"
      ]
     },
     "metadata": {},
     "output_type": "display_data"
    }
   ],
   "source": [
    "maxYvalue = max(Y)\n",
    "maxresult = casedf.loc[casedf['VALUE'] == maxYvalue]\n",
    "current = Y[-1]\n",
    "dx = maxresult[['DATE']].squeeze()\n",
    "plt.scatter(X, Y)\n",
    "plt.scatter(dx, maxYvalue, color='red', marker='>', s=100)\n",
    "plt.annotate('max value: %s' % maxYvalue, xy=(dx, maxYvalue))\n",
    "plt.scatter('2015-07-01 00:00:00', current, color='green', marker='*', s=100)\n",
    "plt.annotate('current value: %s' % current, xy=('2013-07-01 00:00:00', current))\n",
    "plt.title('Case-Shiller - 10 City - 2000 - 2015')\n",
    "plt.show()"
   ]
  },
  {
   "cell_type": "markdown",
   "metadata": {},
   "source": [
    "<b>Analysis 2 - Market approaching peak</b><br>\n",
    "As you can see from the plot, the max value according to the Case-Shiller index was 226,400 right before the market popped in 2008 and the last set of data for 2015 was 193,700. This, along with the shape of the graph from 2012 on indicate that prices are indeed on the rise again and likely heading to another peak. <br><br>\n",
    "However, predicting any market using trailing data is next to impossible. There is just too much variability in the world for it to be accurate using trailing data indicators as a basis for decision making. There may be a data variable available that can help due to natural lag in the process. Building Permit applications.<br>\n",
    "In New York City, all real estate developers or contractors that want to perform work need to submit applications to the Department of Buildings. NYC Open Data does capture some of this information that we might be able to use to determine if there is an increase in applications, vis-a-vis an increase in development ultimately driving prices up."
   ]
  },
  {
   "cell_type": "code",
   "execution_count": null,
   "metadata": {
    "collapsed": true
   },
   "outputs": [],
   "source": []
  }
 ],
 "metadata": {
  "kernelspec": {
   "display_name": "Python 2",
   "language": "python",
   "name": "python2"
  },
  "language_info": {
   "codemirror_mode": {
    "name": "ipython",
    "version": 2
   },
   "file_extension": ".py",
   "mimetype": "text/x-python",
   "name": "python",
   "nbconvert_exporter": "python",
   "pygments_lexer": "ipython2",
   "version": "2.7.10"
  }
 },
 "nbformat": 4,
 "nbformat_minor": 0
}
