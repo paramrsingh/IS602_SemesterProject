{
 "cells": [
  {
   "cell_type": "markdown",
   "metadata": {},
   "source": [
    "<b>Problem Statement</b><br>\n",
    "If I were a real estate developer I would be interested in aggregating multiple sources of listing and mortgage data in a specific neighborhood, correlating to the larger market and using this to identify the most opportune time to sell assets and re-capitalize. In simpler terms, I want to know if we are approaching another market peak and the opportune time to sell."
   ]
  },
  {
   "cell_type": "markdown",
   "metadata": {},
   "source": [
    "<b>Summary Conculsions:</b><br>\n",
    "- The Long Island City Real Estate Market is closely correlated to larger market performance i.e. Case-Shiller\n",
    "- The larger market appears to be approaching another peak, similar to the approach in 2007\n",
    "- There has been a steady year-on-year increase in development activity in the Long Island City area as identified by filed building permits<br>\n",
    "\n",
    "These three analyses indicate that the market is approaching a high, that means as a real estate developer I would assume that it would be a good time to sell assets and re-capitalize in the near-future. The following sections will detail each of these analyses.<br><br>"
   ]
  },
  {
   "cell_type": "markdown",
   "metadata": {},
   "source": [
    "<b>Data Sources</b> <br>\n",
    "\"In God we trust, all others bring data\" - W. Edwards Deming\n",
    "- Zillow - Sales data by zip code per month<br>\n",
    "  Source: http://www.zillow.com/research/data/\n",
    "- Case Shiller - 10 City Index per quarter<br>\n",
    "  Source: https://research.stlouisfed.org/fred2/series/SPCS10RSA/downloaddata\n",
    "- NYC Open Data - Department of Buildings Permit Issuances<br>\n",
    "  Source: https://data.cityofnewyork.us/data"
   ]
  },
  {
   "cell_type": "code",
   "execution_count": 35,
   "metadata": {
    "collapsed": false
   },
   "outputs": [],
   "source": [
    "%matplotlib inline\n",
    "import pandas as pd\n",
    "from pandas import Series\n",
    "import numpy as np\n",
    "import matplotlib.pyplot as plt\n",
    "import matplotlib.pylab as pylab\n",
    "from scipy import stats\n",
    "pylab.rcParams['figure.figsize'] = 14, 10"
   ]
  },
  {
   "cell_type": "markdown",
   "metadata": {},
   "source": [
    "I chose to load the csv data as Pandas dataframe to make selecting and slicing simpler. "
   ]
  },
  {
   "cell_type": "code",
   "execution_count": 36,
   "metadata": {
    "collapsed": false
   },
   "outputs": [
    {
     "name": "stdout",
     "output_type": "stream",
     "text": [
      "<class 'pandas.core.frame.DataFrame'>\n",
      "Int64Index: 115 entries, 0 to 114\n",
      "Data columns (total 2 columns):\n",
      "DATE     115 non-null object\n",
      "VALUE    115 non-null float64\n",
      "dtypes: float64(1), object(1)\n",
      "memory usage: 2.7+ KB\n",
      "None\n",
      "<class 'pandas.core.frame.DataFrame'>\n",
      "Int64Index: 13058 entries, 0 to 13057\n",
      "Columns: 242 entries, RegionID to 2015-10\n",
      "dtypes: float64(201), int64(37), object(4)\n",
      "memory usage: 24.2+ MB\n",
      "None\n"
     ]
    }
   ],
   "source": [
    "casedf = pd.read_csv('~/Downloads/SPCS10RSA.csv')\n",
    "zillowdf = pd.read_csv('~/Downloads/Zip_Zhvi_AllHomes.csv')\n",
    "print casedf.info()\n",
    "print zillowdf.info()"
   ]
  },
  {
   "cell_type": "markdown",
   "metadata": {},
   "source": [
    "The Case-Shiller data looks to be \"long\", with two columns representing the quarter and the aggregated city values. The Zillow data on the other hand has numerous columns which represent months horizontally, additionally there are some missing values in the Zillow data."
   ]
  },
  {
   "cell_type": "code",
   "execution_count": 37,
   "metadata": {
    "collapsed": false
   },
   "outputs": [
    {
     "name": "stdout",
     "output_type": "stream",
     "text": [
      "         DATE  VALUE\n",
      "0  1987-01-01  63.78\n",
      "1  1987-04-01  65.79\n",
      "2  1987-07-01  67.73\n",
      "3  1987-10-01  69.62\n",
      "4  1988-01-01  71.25\n",
      "   RegionID  RegionName      City State                               Metro  \\\n",
      "0     62080       11368  New York    NY                            New York   \n",
      "1     93144       79936   El Paso    TX                             El Paso   \n",
      "2     84630       60629   Chicago    IL                             Chicago   \n",
      "3     96193       90650   Norwalk    CA  Los Angeles-Long Beach-Anaheim, CA   \n",
      "4     62037       11226  New York    NY                            New York   \n",
      "\n",
      "    CountyName  SizeRank  1996-04  1996-05  1996-06   ...     2015-01  \\\n",
      "0       Queens         1      NaN      NaN      NaN   ...      353200   \n",
      "1      El Paso         2    70800    71000    71000   ...      111500   \n",
      "2         Cook         3    93100    93100    92900   ...      134300   \n",
      "3  Los Angeles         4   144500   144300   143900   ...      373300   \n",
      "4        Kings         5      NaN      NaN      NaN   ...      512900   \n",
      "\n",
      "   2015-02  2015-03  2015-04  2015-05  2015-06  2015-07  2015-08  2015-09  \\\n",
      "0   353900   352600   353000   355200   356600   355900   355200   358300   \n",
      "1   111400   111600   111900   112000   112100   112200   112200   111800   \n",
      "2   134400   134400   134600   135600   137500   139500   140600   140300   \n",
      "3   376200   380100   383300   385900   388200   390400   393000   395500   \n",
      "4   526600   537300   537500   536700   537800   541700   548100   558700   \n",
      "\n",
      "   2015-10  \n",
      "0   363600  \n",
      "1   111500  \n",
      "2   139700  \n",
      "3   397400  \n",
      "4   569300  \n",
      "\n",
      "[5 rows x 242 columns]\n"
     ]
    }
   ],
   "source": [
    "print casedf.head()\n",
    "print zillowdf.head()"
   ]
  },
  {
   "cell_type": "markdown",
   "metadata": {},
   "source": [
    "I changed the DATE column in the Case-Shiller dataframe to be datetime"
   ]
  },
  {
   "cell_type": "code",
   "execution_count": 38,
   "metadata": {
    "collapsed": false
   },
   "outputs": [],
   "source": [
    "casedf['DATE'] = pd.to_datetime(casedf['DATE'])"
   ]
  },
  {
   "cell_type": "markdown",
   "metadata": {},
   "source": [
    "Sliced to get just the values that are needed for the analysis. In this case data from 2010 on."
   ]
  },
  {
   "cell_type": "code",
   "execution_count": 39,
   "metadata": {
    "collapsed": false
   },
   "outputs": [
    {
     "name": "stdout",
     "output_type": "stream",
     "text": [
      "          DATE   VALUE\n",
      "92  2010-01-01  159.68\n",
      "93  2010-04-01  160.14\n",
      "94  2010-07-01  158.82\n",
      "95  2010-10-01  156.82\n",
      "96  2011-01-01  155.42\n",
      "97  2011-04-01  153.99\n",
      "98  2011-07-01  153.14\n",
      "99  2011-10-01  151.03\n",
      "100 2012-01-01  149.92\n",
      "101 2012-04-01  152.15\n",
      "102 2012-07-01  155.13\n",
      "103 2012-10-01  158.20\n",
      "104 2013-01-01  162.82\n",
      "105 2013-04-01  169.60\n",
      "106 2013-07-01  174.91\n",
      "107 2013-10-01  179.95\n",
      "108 2014-01-01  184.07\n",
      "109 2014-04-01  185.44\n",
      "110 2014-07-01  184.83\n",
      "111 2014-10-01  187.54\n",
      "112 2015-01-01  192.26\n",
      "113 2015-04-01  193.88\n",
      "114 2015-07-01  193.70\n"
     ]
    }
   ],
   "source": [
    "casedf = casedf.ix[92:]\n",
    "print casedf"
   ]
  },
  {
   "cell_type": "markdown",
   "metadata": {},
   "source": [
    "Now, on to the Zillow data. As mentioned, the raw data is in \"wide\" format where the variables (columns) are in month increments and the observations (rows) are the neighborhoods by zip code. For linear regression the n, number of observations, for both the x and y values have to be the same. I dropped the columns not needed (in this case the values were coincidentally not present up until 2010), selected the \"row\" that matched to Long Island City (zip code 11101), and then transposed the data to match the \"long\" format of the Case-Shiller data and also for plotting."
   ]
  },
  {
   "cell_type": "code",
   "execution_count": 40,
   "metadata": {
    "collapsed": true
   },
   "outputs": [],
   "source": [
    "colcounter = range(0, 172)\n",
    "licdata = zillowdf.drop(zillowdf.columns[[colcounter]], axis=1)\n",
    "licdata = licdata[2998:2999].T"
   ]
  },
  {
   "cell_type": "markdown",
   "metadata": {},
   "source": [
    "The other complication with the Zillow data is that it was by month, and the Case-Shiller data was by quarter. When data gives you lemons, you make lemonade. The following code droppped the columns I did not need."
   ]
  },
  {
   "cell_type": "code",
   "execution_count": 41,
   "metadata": {
    "collapsed": false
   },
   "outputs": [
    {
     "name": "stdout",
     "output_type": "stream",
     "text": [
      "           2998\n",
      "2010-01  493800\n",
      "2010-04  541400\n",
      "2010-07  590000\n",
      "2010-10  620100\n",
      "2011-01  635800\n",
      "2011-04  625800\n",
      "2011-07  614000\n",
      "2011-10  593000\n",
      "2012-01  569900\n",
      "2012-04  568000\n",
      "2012-07  619100\n",
      "2012-10  630300\n",
      "2013-01  643800\n",
      "2013-04  651500\n",
      "2013-07  670600\n",
      "2013-10  734800\n",
      "2014-01  802500\n",
      "2014-04  787700\n",
      "2014-07  766100\n",
      "2014-10  793700\n",
      "2015-01  791700\n",
      "2015-04  751400\n",
      "2015-07  675600\n"
     ]
    }
   ],
   "source": [
    "excludelist = []\n",
    "years = ['2010', '2011', '2012', '2013', '2014', '2015']\n",
    "months = ['02', '03', '05', '06', '08', '09', '11', '12']\n",
    "for i in years:\n",
    "    for j in months:\n",
    "        excludelist.append(str(i) + \"-\" + str(j))\n",
    "# manually dropping the last two months in 2015 as they are not present in the data\n",
    "del excludelist[-2:]\n",
    "licdata = licdata.drop(excludelist, axis=0)\n",
    "licdata = licdata.ix[:-1]\n",
    "print licdata"
   ]
  },
  {
   "cell_type": "markdown",
   "metadata": {},
   "source": [
    "And yet another wrinkle was that the scale of the Case-Shiller data was format shortened by decimal (common with large amounts in Finance), where the Zillow Data was actual. I shifted the decimal and then \"squeezed\" both dataframes to ensure that they would be able to be plotted."
   ]
  },
  {
   "cell_type": "code",
   "execution_count": 42,
   "metadata": {
    "collapsed": false
   },
   "outputs": [],
   "source": [
    "Y = np.array(licdata[[2998]])\n",
    "Y = Y/1000\n",
    "Y = Y.squeeze()\n",
    "X = np.array(casedf[['VALUE']])\n",
    "X = X.squeeze()"
   ]
  },
  {
   "cell_type": "markdown",
   "metadata": {},
   "source": [
    "Finally, the linear regression available through SciPy"
   ]
  },
  {
   "cell_type": "code",
   "execution_count": 43,
   "metadata": {
    "collapsed": false
   },
   "outputs": [
    {
     "name": "stdout",
     "output_type": "stream",
     "text": [
      "Slope:  4.77832659201\n",
      "R-value:  0.843670354844\n"
     ]
    }
   ],
   "source": [
    "slope, intercept, r_value, p_value, std_err = stats.linregress(X, Y)\n",
    "print \"Slope: \", slope\n",
    "print \"R-value: \", r_value"
   ]
  },
  {
   "cell_type": "markdown",
   "metadata": {},
   "source": [
    "The r_value is 0.8437, close to 1. This indicates that there is a strong linear relationship between x - Case-Shiller 10-City Index data, and y - residential sales data for Long Island City, NY (zip 11101). As the prices increase in x, they also increase on y.<br>\n",
    "This isn't entirely surprising, as New York City is one of the cities where its real estate sales data is used to create the Case-Shiller index. What was unexpected was how strong this relationship was. A long-time argument with developers in New York City is that the market here was very \"special\" and does not always adhere to the same rules as the rest of the country. In this case, that does not seem to hold true."
   ]
  },
  {
   "cell_type": "code",
   "execution_count": 44,
   "metadata": {
    "collapsed": false
   },
   "outputs": [
    {
     "data": {
      "image/png": "[encoded data removed]",
      "text/plain": [
       "<matplotlib.figure.Figure at 0x108657050>"
      ]
     },
     "metadata": {},
     "output_type": "display_data"
    }
   ],
   "source": [
    "plt.scatter(X, Y)\n",
    "plt.plot(X, slope*X + intercept)\n",
    "plt.ylabel('Long Island City, NY - 11101')\n",
    "plt.xlabel('Case-Shiller 10-City')\n",
    "plt.title('Residential Real Estate Data 2010 - 2015')\n",
    "plt.show()"
   ]
  },
  {
   "cell_type": "markdown",
   "metadata": {},
   "source": [
    "<b>Analysis 1 - Strong correlation of Long Island City Residential Sales to the larger market</b><br>\n",
    "The plot of the data, along with the regression line demonstrating the r-value of 0.8437 and a strong correlation indicates that sales in this neighborhood generally follow the trend of the larger market place. This answers the first part of the problem statement.<br><br>\n",
    "Next, we take a look at the Case-Shiller index on a longer timescale (2000-2015) to determine if it is approaching another high."
   ]
  },
  {
   "cell_type": "code",
   "execution_count": 45,
   "metadata": {
    "collapsed": true
   },
   "outputs": [],
   "source": [
    "casedf = pd.read_csv('~/Downloads/SPCS10RSA.csv')\n",
    "casedf = casedf.ix[52:]\n",
    "casedf['DATE'] = pd.to_datetime(casedf['DATE'])\n",
    "X = np.array(casedf[['DATE']])\n",
    "Y = np.array(casedf[['VALUE']])\n",
    "X = X.squeeze()\n",
    "Y = Y.squeeze()"
   ]
  },
  {
   "cell_type": "code",
   "execution_count": 46,
   "metadata": {
    "collapsed": false
   },
   "outputs": [
    {
     "data": {
      "image/png": "[encoded data removed]",
      "text/plain": [
       "<matplotlib.figure.Figure at 0x108b9a3d0>"
      ]
     },
     "metadata": {},
     "output_type": "display_data"
    }
   ],
   "source": [
    "maxYvalue = max(Y)\n",
    "maxresult = casedf.loc[casedf['VALUE'] == maxYvalue]\n",
    "current = Y[-1]\n",
    "dx = maxresult[['DATE']].squeeze()\n",
    "plt.plot(X, Y)\n",
    "plt.scatter(dx, maxYvalue, color='red', marker='>', s=100)\n",
    "plt.annotate('max value: %s' % maxYvalue, xy=(dx, maxYvalue+3))\n",
    "plt.scatter('2015-07-01 00:00:00', current, color='green', marker='*', s=100)\n",
    "plt.annotate('current value: %s' % current, xy=('2013-07-01 00:00:00', current+3))\n",
    "plt.title('Case-Shiller - 10 City - 2000 - 2015')\n",
    "plt.show()"
   ]
  },
  {
   "cell_type": "markdown",
   "metadata": {},
   "source": [
    "<b>Analysis 2 - Market approaching peak</b><br>\n",
    "As you can see from the plot, the max value according to the Case-Shiller index was 226,400 right before the market popped in 2008 and the last set of data for 2015 was 193,700. This, along with the shape of the graph from 2012 on indicate that prices are indeed on the rise again and likely heading to another peak. <br><br>\n",
    "However, predicting any market using trailing data is next to impossible. There is just too much variability in the world for it to be accurate using trailing data indicators as a basis for decision making. There may be a data variable available that can help due to natural lag in the process; Building Permit applications.<br>\n",
    "In New York City, all real estate developers or contractors that want to perform work need to submit applications to the Department of Buildings. NYC Open Data does capture some of this information that we might be able to use to determine if there is an increase in applications, vis-a-vis an increase in development ultimately driving prices up."
   ]
  },
  {
   "cell_type": "markdown",
   "metadata": {
    "collapsed": true
   },
   "source": [
    "Let's begin by loading the NYC Open Data Building Permit Data. The Open Data website makes some prefiltering possible, in this case I downloaded all the available data in the 11101 zip code."
   ]
  },
  {
   "cell_type": "code",
   "execution_count": 47,
   "metadata": {
    "collapsed": false
   },
   "outputs": [
    {
     "name": "stdout",
     "output_type": "stream",
     "text": [
      "<class 'pandas.core.frame.DataFrame'>\n",
      "Int64Index: 5613 entries, 0 to 5612\n",
      "Data columns (total 54 columns):\n",
      "BOROUGH                             5613 non-null object\n",
      "Bin #                               5613 non-null int64\n",
      "House #                             5613 non-null object\n",
      "Street Name                         5613 non-null object\n",
      "Job #                               5613 non-null int64\n",
      "Job doc. #                          5613 non-null int64\n",
      "Job Type                            5613 non-null object\n",
      "Self_Cert                           3045 non-null object\n",
      "Block                               5613 non-null int64\n",
      "Lot                                 5613 non-null int64\n",
      "Community Board                     5613 non-null int64\n",
      "Zip Code                            5613 non-null int64\n",
      "Bldg Type                           5613 non-null int64\n",
      "Residential                         1732 non-null object\n",
      "Special District 1                  2567 non-null object\n",
      "Special District 2                  3 non-null object\n",
      "Work Type                           5613 non-null object\n",
      "Permit Status                       5613 non-null object\n",
      "Filing Status                       5613 non-null object\n",
      "Permit Type                         5613 non-null object\n",
      "Permit Sequence #                   5613 non-null int64\n",
      "Permit Subtype                      5613 non-null object\n",
      "Oil Gas                             5613 non-null object\n",
      "Site Fill                           3809 non-null object\n",
      "Filing Date                         5613 non-null object\n",
      "Issuance Date                       5613 non-null object\n",
      "Expiration Date                     5613 non-null object\n",
      "Job Start Date                      5613 non-null object\n",
      "Permittee's First Name              5613 non-null object\n",
      "Permittee's Last Name               5613 non-null object\n",
      "Permittee's Business Name           5613 non-null object\n",
      "Permittee's Phone #                 5613 non-null int64\n",
      "Permittee's License Type            5613 non-null object\n",
      "Permittee's License #               5613 non-null object\n",
      "Act as Superintendent               5613 non-null object\n",
      "Permittee's Other Title             5613 non-null object\n",
      "HIC License                         5613 non-null object\n",
      "Site Safety Mgr's First Name        5613 non-null object\n",
      "Site Safety Mgr's Last Name         5613 non-null object\n",
      "Site Safety Mgr Business Name       5613 non-null object\n",
      "Superintendent First & Last Name    5613 non-null object\n",
      "Superintendent Business Name        5613 non-null object\n",
      "Owner's Business Type               5593 non-null object\n",
      "Non-Profit                          186 non-null object\n",
      "Owner's Business Name               5586 non-null object\n",
      "Owner's First Name                  5586 non-null object\n",
      "Owner's Last Name                   5586 non-null object\n",
      "Owner's House #                     5586 non-null object\n",
      "Owner's House Street Name           5586 non-null object\n",
      "Owner�۪s House City                 5586 non-null object\n",
      "Owner�۪s House State                5586 non-null object\n",
      "Owner�۪s House Zip Code             5586 non-null float64\n",
      "Owner's Phone #                     5586 non-null object\n",
      "DOBRunDate                          5613 non-null object\n",
      "dtypes: float64(1), int64(10), object(43)\n",
      "memory usage: 2.4+ MB\n",
      "None\n"
     ]
    }
   ],
   "source": [
    "nycopendata = pd.read_csv('~/Downloads/DOB_Permit_Issuance-3a.csv')\n",
    "print nycopendata.info()"
   ]
  },
  {
   "cell_type": "markdown",
   "metadata": {},
   "source": [
    "There's quite a lot of data available in this dataset, I dropped the columns of no interest and pared the variables down to just Permit Type and Filing Date"
   ]
  },
  {
   "cell_type": "code",
   "execution_count": 48,
   "metadata": {
    "collapsed": false
   },
   "outputs": [
    {
     "name": "stdout",
     "output_type": "stream",
     "text": [
      "<class 'pandas.core.frame.DataFrame'>\n",
      "Int64Index: 5613 entries, 0 to 5612\n",
      "Data columns (total 2 columns):\n",
      "Permit Type    5613 non-null object\n",
      "Filing Date    5613 non-null object\n",
      "dtypes: object(2)\n",
      "memory usage: 131.6+ KB\n",
      "None\n"
     ]
    }
   ],
   "source": [
    "colcounter = range(0, 19)\n",
    "nycopendata = nycopendata.drop(nycopendata.columns[[colcounter]], axis=1)\n",
    "colcounter = range(6, 35)\n",
    "nycopendata = nycopendata.drop(nycopendata.columns[[colcounter]], axis=1)\n",
    "colcounter = range(1, 5)\n",
    "nycopendata = nycopendata.drop(nycopendata.columns[[colcounter]], axis=1)\n",
    "print nycopendata.info()"
   ]
  },
  {
   "cell_type": "markdown",
   "metadata": {},
   "source": [
    "Changed to DateTime format and filtered for the specific permit types that are indicative of an increase in real estate development; in this case everything except PL - Plumbing or SG - Sign"
   ]
  },
  {
   "cell_type": "code",
   "execution_count": 49,
   "metadata": {
    "collapsed": false
   },
   "outputs": [
    {
     "name": "stdout",
     "output_type": "stream",
     "text": [
      "<class 'pandas.core.frame.DataFrame'>\n",
      "Int64Index: 4831 entries, 0 to 5612\n",
      "Data columns (total 2 columns):\n",
      "Permit Type    4831 non-null object\n",
      "Filing Date    4831 non-null object\n",
      "dtypes: object(2)\n",
      "memory usage: 113.2+ KB\n",
      "None\n",
      "  Permit Type Filing Date\n",
      "0          AL    12/18/15\n",
      "1          EQ    12/18/15\n",
      "2          FO    12/18/15\n",
      "3          AL    12/17/15\n",
      "4          NB    12/18/15\n"
     ]
    }
   ],
   "source": [
    "nycopendata = nycopendata[(nycopendata['Permit Type'] != 'PL') | (nycopendata['Permit Type'] == 'SG')]\n",
    "print nycopendata.info()\n",
    "print nycopendata.head()"
   ]
  },
  {
   "cell_type": "markdown",
   "metadata": {},
   "source": [
    "I determined the amount of permits filed by quarter, staying consistent with the other timescales."
   ]
  },
  {
   "cell_type": "code",
   "execution_count": 50,
   "metadata": {
    "collapsed": false
   },
   "outputs": [],
   "source": [
    "nycopendata['Filing Date'] = pd.to_datetime(nycopendata['Filing Date'])\n",
    "nycopendata['Filing Date'] = nycopendata['Filing Date'].apply(lambda t: t.to_period(freq='q'))\n",
    "count_per_quarter = nycopendata[['Permit Type', 'Filing Date']].groupby(['Filing Date']).agg(['count'])\n",
    "count_per_quarter.reset_index(inplace=True)\n",
    "count_per_quarter.columns = count_per_quarter.columns.get_level_values(0)"
   ]
  },
  {
   "cell_type": "markdown",
   "metadata": {},
   "source": [
    "Set the data up and plotted"
   ]
  },
  {
   "cell_type": "code",
   "execution_count": 51,
   "metadata": {
    "collapsed": false
   },
   "outputs": [
    {
     "data": {
      "image/png": "[encoded data removed]",
      "text/plain": [
       "<matplotlib.figure.Figure at 0x108650bd0>"
      ]
     },
     "metadata": {},
     "output_type": "display_data"
    }
   ],
   "source": [
    "X = np.array(count_per_quarter[['Filing Date']]).squeeze()\n",
    "Y = np.array(count_per_quarter[['Permit Type']]).squeeze()\n",
    "ao = Series(Y, index=X)\n",
    "ao.plot(kind='bar')\n",
    "plt.title('Long Island City - Filing Permits by Quarter')\n",
    "plt.show()"
   ]
  },
  {
   "cell_type": "markdown",
   "metadata": {},
   "source": [
    "<b>Analysis 3 - Steady Increase of Filed Building Permits indicates increase in Real Estate Development</b><br>\n",
    "This Histogram indicates that there was likely an anomaly with the data available from 2008 Q4 - 2013 Q1; this is likely attributed to missing data from the Open Data website.<br><br>\n",
    "The 2013 Q2 - 2015 Q4 data does reveal an interesting observation, there is a consistent increase in building permits year-on-year, within \"construction season\". For contractors and developers, the construction season is typically within Q2 and Q3. This can be seen in the histogram with steady increases year-on-year. For Q1 and Q4 these numbers are almost static year-on-year, likely a result of seasonal or weather related work.<br><br>\n",
    "The other interesting point with this data is that it could likely be used as a predictor with some reliability. If there was a means of getting the Filing Date and Permit Type on a more real-time basis, this could be very useful for market speculators."
   ]
  },
  {
   "cell_type": "code",
   "execution_count": null,
   "metadata": {
    "collapsed": true
   },
   "outputs": [],
   "source": []
  }
 ],
 "metadata": {
  "kernelspec": {
   "display_name": "Python 2",
   "language": "python",
   "name": "python2"
  },
  "language_info": {
   "codemirror_mode": {
    "name": "ipython",
    "version": 2
   },
   "file_extension": ".py",
   "mimetype": "text/x-python",
   "name": "python",
   "nbconvert_exporter": "python",
   "pygments_lexer": "ipython2",
   "version": "2.7.10"
  }
 },
 "nbformat": 4,
 "nbformat_minor": 0
}
